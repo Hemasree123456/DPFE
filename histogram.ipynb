{
 "cells": [
  {
   "cell_type": "code",
   "execution_count": 19,
   "id": "74c15123-38b0-485f-affb-e98fe3ab7761",
   "metadata": {},
   "outputs": [],
   "source": [
    "import pandas as pd\n",
    "import matplotlib.pyplot as plt"
   ]
  },
  {
   "cell_type": "code",
   "execution_count": 23,
   "id": "ccc40bf8-7b5d-43ef-8ba2-613514ebb5ea",
   "metadata": {},
   "outputs": [],
   "source": [
    "data=pd.read_excel(\"age file.xlsx\")\n",
    "age=data['age']"
   ]
  },
  {
   "cell_type": "code",
   "execution_count": 28,
   "id": "742e3b5d-7cc4-4f1b-8ce4-6b2086281483",
   "metadata": {},
   "outputs": [
    {
     "data": {
      "image/png": "[encoded data removed]",
      "text/plain": [
       "<Figure size 432x288 with 1 Axes>"
      ]
     },
     "metadata": {
      "needs_background": "light"
     },
     "output_type": "display_data"
    }
   ],
   "source": [
    "plt.hist(age,bins=[1,10,20,26],color='brown')\n",
    "plt.xlabel(\"age\")\n",
    "plt.title('age of students')\n",
    "plt.show()"
   ]
  },
  {
   "cell_type": "code",
   "execution_count": null,
   "id": "07c1b9b1-12f0-4d00-a9bb-bb3d0eb8a388",
   "metadata": {},
   "outputs": [],
   "source": []
  }
 ],
 "metadata": {
  "kernelspec": {
   "display_name": "Python 3 (ipykernel)",
   "language": "python",
   "name": "python3"
  },
  "language_info": {
   "codemirror_mode": {
    "name": "ipython",
    "version": 3
   },
   "file_extension": ".py",
   "mimetype": "text/x-python",
   "name": "python",
   "nbconvert_exporter": "python",
   "pygments_lexer": "ipython3",
   "version": "3.9.12"
  }
 },
 "nbformat": 4,
 "nbformat_minor": 5
}
