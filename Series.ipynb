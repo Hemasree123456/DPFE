{
 "cells": [
  {
   "cell_type": "code",
   "execution_count": 4,
   "id": "9b3716fe-cbcf-4163-bf4e-42031fd54b69",
   "metadata": {},
   "outputs": [],
   "source": [
    "import pandas as pd"
   ]
  },
  {
   "cell_type": "code",
   "execution_count": 10,
   "id": "e3f2fd55-c15b-453c-baa9-6bd15edecf58",
   "metadata": {},
   "outputs": [],
   "source": [
    "s=pd.Series(['Abhi',\"Bro\",\"Code\"])"
   ]
  },
  {
   "cell_type": "code",
   "execution_count": 11,
   "id": "681f04be-8009-4b6e-a4ae-12a7bbb5f6d2",
   "metadata": {},
   "outputs": [
    {
     "data": {
      "text/plain": [
       "0    Abhi\n",
       "1     Bro\n",
       "2    Code\n",
       "dtype: object"
      ]
     },
     "execution_count": 11,
     "metadata": {},
     "output_type": "execute_result"
    }
   ],
   "source": [
    "s"
   ]
  },
  {
   "cell_type": "code",
   "execution_count": 12,
   "id": "6741a316-eec9-4835-9ee7-bee5c2785cea",
   "metadata": {},
   "outputs": [],
   "source": [
    "df=pd.DataFrame(['sun','yun','zin'],columns=['Name'],index=[50,250,750])"
   ]
  },
  {
   "cell_type": "code",
   "execution_count": 13,
   "id": "3371b59c-5990-4072-a34b-2b90dae29645",
   "metadata": {},
   "outputs": [
    {
     "data": {
      "text/html": [
       "<div>\n",
       "<style scoped>\n",
       "    .dataframe tbody tr th:only-of-type {\n",
       "        vertical-align: middle;\n",
       "    }\n",
       "\n",
       "    .dataframe tbody tr th {\n",
       "        vertical-align: top;\n",
       "    }\n",
       "\n",
       "    .dataframe thead th {\n",
       "        text-align: right;\n",
       "    }\n",
       "</style>\n",
       "<table border=\"1\" class=\"dataframe\">\n",
       "  <thead>\n",
       "    <tr style=\"text-align: right;\">\n",
       "      <th></th>\n",
       "      <th>Name</th>\n",
       "    </tr>\n",
       "  </thead>\n",
       "  <tbody>\n",
       "    <tr>\n",
       "      <th>50</th>\n",
       "      <td>sun</td>\n",
       "    </tr>\n",
       "    <tr>\n",
       "      <th>250</th>\n",
       "      <td>yun</td>\n",
       "    </tr>\n",
       "    <tr>\n",
       "      <th>750</th>\n",
       "      <td>zin</td>\n",
       "    </tr>\n",
       "  </tbody>\n",
       "</table>\n",
       "</div>"
      ],
      "text/plain": [
       "    Name\n",
       "50   sun\n",
       "250  yun\n",
       "750  zin"
      ]
     },
     "execution_count": 13,
     "metadata": {},
     "output_type": "execute_result"
    }
   ],
   "source": [
    "df"
   ]
  },
  {
   "cell_type": "code",
   "execution_count": 14,
   "id": "33d346be-cde5-4b8e-a42c-adc6f7def3e8",
   "metadata": {},
   "outputs": [],
   "source": [
    "import numpy as np"
   ]
  },
  {
   "cell_type": "code",
   "execution_count": 15,
   "id": "6c5f5cd8-763b-4021-a8a1-9f6b46a90259",
   "metadata": {},
   "outputs": [],
   "source": [
    "from numpy import random"
   ]
  },
  {
   "cell_type": "code",
   "execution_count": 16,
   "id": "b4ad8151-a73c-4ee0-aa8e-b2aa73103050",
   "metadata": {},
   "outputs": [],
   "source": [
    "d=pd.DataFrame(np.random.randn(4,4),columns=['col1','col2','col3','col4'])"
   ]
  },
  {
   "cell_type": "code",
   "execution_count": 11,
   "id": "d344881f-61b8-4f03-a3a4-0d4647deecff",
   "metadata": {},
   "outputs": [
    {
     "data": {
      "text/html": [
       "<div>\n",
       "<style scoped>\n",
       "    .dataframe tbody tr th:only-of-type {\n",
       "        vertical-align: middle;\n",
       "    }\n",
       "\n",
       "    .dataframe tbody tr th {\n",
       "        vertical-align: top;\n",
       "    }\n",
       "\n",
       "    .dataframe thead th {\n",
       "        text-align: right;\n",
       "    }\n",
       "</style>\n",
       "<table border=\"1\" class=\"dataframe\">\n",
       "  <thead>\n",
       "    <tr style=\"text-align: right;\">\n",
       "      <th></th>\n",
       "      <th>col1</th>\n",
       "      <th>col2</th>\n",
       "      <th>col3</th>\n",
       "      <th>col4</th>\n",
       "    </tr>\n",
       "  </thead>\n",
       "  <tbody>\n",
       "    <tr>\n",
       "      <th>0</th>\n",
       "      <td>-0.158662</td>\n",
       "      <td>-0.609085</td>\n",
       "      <td>-0.298430</td>\n",
       "      <td>-1.047756</td>\n",
       "    </tr>\n",
       "    <tr>\n",
       "      <th>1</th>\n",
       "      <td>-0.264318</td>\n",
       "      <td>1.292244</td>\n",
       "      <td>0.697093</td>\n",
       "      <td>-0.279947</td>\n",
       "    </tr>\n",
       "    <tr>\n",
       "      <th>2</th>\n",
       "      <td>0.897944</td>\n",
       "      <td>-0.757359</td>\n",
       "      <td>-0.023381</td>\n",
       "      <td>-0.643884</td>\n",
       "    </tr>\n",
       "    <tr>\n",
       "      <th>3</th>\n",
       "      <td>1.393121</td>\n",
       "      <td>0.642486</td>\n",
       "      <td>1.029072</td>\n",
       "      <td>0.390159</td>\n",
       "    </tr>\n",
       "  </tbody>\n",
       "</table>\n",
       "</div>"
      ],
      "text/plain": [
       "       col1      col2      col3      col4\n",
       "0 -0.158662 -0.609085 -0.298430 -1.047756\n",
       "1 -0.264318  1.292244  0.697093 -0.279947\n",
       "2  0.897944 -0.757359 -0.023381 -0.643884\n",
       "3  1.393121  0.642486  1.029072  0.390159"
      ]
     },
     "execution_count": 11,
     "metadata": {},
     "output_type": "execute_result"
    }
   ],
   "source": [
    "d"
   ]
  },
  {
   "cell_type": "code",
   "execution_count": null,
   "id": "e3595b4d-09ba-45ac-8926-756583403c61",
   "metadata": {},
   "outputs": [],
   "source": []
  },
  {
   "cell_type": "code",
   "execution_count": 17,
   "id": "0f0908c1-d27c-41d7-a1f0-c860398c3b2e",
   "metadata": {},
   "outputs": [
    {
     "data": {
      "text/plain": [
       "col1   -2.204673\n",
       "col2   -0.572347\n",
       "col3   -1.197842\n",
       "col4    0.753364\n",
       "Name: 2, dtype: float64"
      ]
     },
     "execution_count": 17,
     "metadata": {},
     "output_type": "execute_result"
    }
   ],
   "source": [
    "d.loc[2]"
   ]
  },
  {
   "cell_type": "code",
   "execution_count": null,
   "id": "5052475f-1c74-49bf-8b67-80c800aa95ed",
   "metadata": {},
   "outputs": [],
   "source": []
  },
  {
   "cell_type": "code",
   "execution_count": 19,
   "id": "56f1ea35-f429-4280-b75e-e3d9a9d82ea5",
   "metadata": {},
   "outputs": [],
   "source": [
    "y=d.iloc[2]"
   ]
  },
  {
   "cell_type": "code",
   "execution_count": 20,
   "id": "c06efa7c-062d-419e-bddc-1edec903eda3",
   "metadata": {},
   "outputs": [
    {
     "data": {
      "text/plain": [
       "col1   -2.204673\n",
       "col2   -0.572347\n",
       "col3   -1.197842\n",
       "col4    0.753364\n",
       "Name: 2, dtype: float64"
      ]
     },
     "execution_count": 20,
     "metadata": {},
     "output_type": "execute_result"
    }
   ],
   "source": [
    "y"
   ]
  },
  {
   "cell_type": "code",
   "execution_count": 34,
   "id": "db706141-4218-4940-b53f-8a7fc7b984aa",
   "metadata": {},
   "outputs": [],
   "source": [
    "d['col4']=d['col1']+d['col2']"
   ]
  },
  {
   "cell_type": "code",
   "execution_count": 21,
   "id": "8094dca2-ee5a-4aa1-842e-0ac5c397016c",
   "metadata": {},
   "outputs": [
    {
     "data": {
      "text/html": [
       "<div>\n",
       "<style scoped>\n",
       "    .dataframe tbody tr th:only-of-type {\n",
       "        vertical-align: middle;\n",
       "    }\n",
       "\n",
       "    .dataframe tbody tr th {\n",
       "        vertical-align: top;\n",
       "    }\n",
       "\n",
       "    .dataframe thead th {\n",
       "        text-align: right;\n",
       "    }\n",
       "</style>\n",
       "<table border=\"1\" class=\"dataframe\">\n",
       "  <thead>\n",
       "    <tr style=\"text-align: right;\">\n",
       "      <th></th>\n",
       "      <th>col1</th>\n",
       "      <th>col2</th>\n",
       "      <th>col3</th>\n",
       "      <th>col4</th>\n",
       "    </tr>\n",
       "  </thead>\n",
       "  <tbody>\n",
       "    <tr>\n",
       "      <th>0</th>\n",
       "      <td>-0.642918</td>\n",
       "      <td>0.912189</td>\n",
       "      <td>0.993779</td>\n",
       "      <td>-0.726708</td>\n",
       "    </tr>\n",
       "    <tr>\n",
       "      <th>1</th>\n",
       "      <td>0.962259</td>\n",
       "      <td>0.129275</td>\n",
       "      <td>0.896007</td>\n",
       "      <td>0.548649</td>\n",
       "    </tr>\n",
       "    <tr>\n",
       "      <th>2</th>\n",
       "      <td>-2.204673</td>\n",
       "      <td>-0.572347</td>\n",
       "      <td>-1.197842</td>\n",
       "      <td>0.753364</td>\n",
       "    </tr>\n",
       "    <tr>\n",
       "      <th>3</th>\n",
       "      <td>-1.117049</td>\n",
       "      <td>-0.208327</td>\n",
       "      <td>-0.452542</td>\n",
       "      <td>-0.180676</td>\n",
       "    </tr>\n",
       "  </tbody>\n",
       "</table>\n",
       "</div>"
      ],
      "text/plain": [
       "       col1      col2      col3      col4\n",
       "0 -0.642918  0.912189  0.993779 -0.726708\n",
       "1  0.962259  0.129275  0.896007  0.548649\n",
       "2 -2.204673 -0.572347 -1.197842  0.753364\n",
       "3 -1.117049 -0.208327 -0.452542 -0.180676"
      ]
     },
     "execution_count": 21,
     "metadata": {},
     "output_type": "execute_result"
    }
   ],
   "source": [
    "d"
   ]
  },
  {
   "cell_type": "code",
   "execution_count": 22,
   "id": "c5cfb16a-5cf2-48e5-8319-3d5fd7562b58",
   "metadata": {},
   "outputs": [
    {
     "data": {
      "text/plain": [
       "(4, 4)"
      ]
     },
     "execution_count": 22,
     "metadata": {},
     "output_type": "execute_result"
    }
   ],
   "source": [
    "d.shape"
   ]
  },
  {
   "cell_type": "code",
   "execution_count": 23,
   "id": "75458da0-196c-4568-89f6-a64f1a59ddc0",
   "metadata": {},
   "outputs": [
    {
     "data": {
      "text/plain": [
       "16"
      ]
     },
     "execution_count": 23,
     "metadata": {},
     "output_type": "execute_result"
    }
   ],
   "source": [
    "d.size"
   ]
  },
  {
   "cell_type": "code",
   "execution_count": 24,
   "id": "196eaa9a-1f05-4089-b3dc-bc6151424b3c",
   "metadata": {},
   "outputs": [
    {
     "data": {
      "text/plain": [
       "pandas.core.frame.DataFrame"
      ]
     },
     "execution_count": 24,
     "metadata": {},
     "output_type": "execute_result"
    }
   ],
   "source": [
    "type(d)"
   ]
  },
  {
   "cell_type": "code",
   "execution_count": 25,
   "id": "93a8a74d-8aaa-48b3-b213-3a633948f4eb",
   "metadata": {},
   "outputs": [
    {
     "data": {
      "text/plain": [
       "pandas.core.series.Series"
      ]
     },
     "execution_count": 25,
     "metadata": {},
     "output_type": "execute_result"
    }
   ],
   "source": [
    "type(d['col1'])"
   ]
  },
  {
   "cell_type": "code",
   "execution_count": 42,
   "id": "d93b0b8b-d0cb-4c2f-8e74-3442a88eb266",
   "metadata": {},
   "outputs": [],
   "source": []
  },
  {
   "cell_type": "code",
   "execution_count": null,
   "id": "fb52d10d-d953-4d8a-9068-c5c61fd657e4",
   "metadata": {},
   "outputs": [],
   "source": []
  },
  {
   "cell_type": "code",
   "execution_count": null,
   "id": "7bd6d185-c770-4b88-8a26-08ef5a485edd",
   "metadata": {},
   "outputs": [],
   "source": []
  }
 ],
 "metadata": {
  "kernelspec": {
   "display_name": "Python 3 (ipykernel)",
   "language": "python",
   "name": "python3"
  },
  "language_info": {
   "codemirror_mode": {
    "name": "ipython",
    "version": 3
   },
   "file_extension": ".py",
   "mimetype": "text/x-python",
   "name": "python",
   "nbconvert_exporter": "python",
   "pygments_lexer": "ipython3",
   "version": "3.9.12"
  }
 },
 "nbformat": 4,
 "nbformat_minor": 5
}
