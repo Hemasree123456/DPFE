{
 "cells": [
  {
   "cell_type": "code",
   "execution_count": 1,
   "id": "6aeb93af-9b0b-4991-8f8c-7b273a8d4821",
   "metadata": {},
   "outputs": [
    {
     "name": "stdout",
     "output_type": "stream",
     "text": [
      "[0, 'ram', 10.0, 9, 0, 6] <class 'list'>\n"
     ]
    }
   ],
   "source": [
    "l=[0,\"ram\",10.0,9,0,6]\n",
    "print(l,type(l))"
   ]
  },
  {
   "cell_type": "code",
   "execution_count": 2,
   "id": "6b6e2997-ed37-40a6-be4a-6fcc46172835",
   "metadata": {},
   "outputs": [
    {
     "name": "stdout",
     "output_type": "stream",
     "text": [
      "4304169296\n"
     ]
    }
   ],
   "source": [
    "var=2\n",
    "print(id(var))"
   ]
  },
  {
   "cell_type": "code",
   "execution_count": 3,
   "id": "67814540-1d02-4ef5-bc1a-dddc0093b353",
   "metadata": {},
   "outputs": [
    {
     "name": "stdout",
     "output_type": "stream",
     "text": [
      "4304169328\n"
     ]
    }
   ],
   "source": [
    "var=3\n",
    "print(id(var))"
   ]
  },
  {
   "cell_type": "code",
   "execution_count": 4,
   "id": "9db2fe92-651c-4eb3-9cac-b089a7800083",
   "metadata": {},
   "outputs": [
    {
     "name": "stdout",
     "output_type": "stream",
     "text": [
      "4304169296\n",
      "[1, 2, 3, 4]\n",
      "[1, 2, 1, 2]\n"
     ]
    }
   ],
   "source": [
    "var2=2\n",
    "print(id(var2))"
   ]
  },
  {
   "cell_type": "code",
   "execution_count": null,
   "id": "70861b72-ccaa-426c-bc9a-d777d4ce7cff",
   "metadata": {},
   "outputs": [],
   "source": []
  },
  {
   "cell_type": "code",
   "execution_count": null,
   "id": "3b3d75c5-7b47-459f-a29d-4ee8ab8a7930",
   "metadata": {},
   "outputs": [],
   "source": []
  },
  {
   "cell_type": "code",
   "execution_count": 23,
   "id": "4ebce0d8-af2d-49c7-b88d-01cc95f27ac5",
   "metadata": {},
   "outputs": [
    {
     "name": "stdout",
     "output_type": "stream",
     "text": [
      "[123, 45, 65, [45, 65]]\n"
     ]
    }
   ],
   "source": [
    "l.append(l2)\n",
    "print(l)"
   ]
  },
  {
   "cell_type": "code",
   "execution_count": 16,
   "id": "6bed17a4-323b-4d42-b306-e771bdf7accb",
   "metadata": {},
   "outputs": [
    {
     "name": "stdout",
     "output_type": "stream",
     "text": [
      "(1, 2, 3) <class 'tuple'>\n",
      "(1, 1, 1, 1)\n"
     ]
    }
   ],
   "source": [
    "\n",
    "t=(1,2,3)\n",
    "print(t,type(t))\n",
    "t1=(1,1,1,1)\n",
    "print(t1)"
   ]
  },
  {
   "cell_type": "code",
   "execution_count": 18,
   "id": "6b7365f7-f4a5-4ed3-a18b-1ea254622ae9",
   "metadata": {},
   "outputs": [
    {
     "name": "stdout",
     "output_type": "stream",
     "text": [
      "{2}\n",
      "{2, 'gali'}\n"
     ]
    }
   ],
   "source": [
    "s={2,2,2}\n",
    "print(s)\n",
    "s={2,\"gali\"}\n",
    "print(s)"
   ]
  },
  {
   "cell_type": "code",
   "execution_count": 19,
   "id": "38ad7ade-437c-40b9-a3d5-b89286de4810",
   "metadata": {},
   "outputs": [
    {
     "name": "stdout",
     "output_type": "stream",
     "text": [
      "{'key': 'value', 2: 'two'}\n"
     ]
    }
   ],
   "source": [
    "d={\"key\":\"value\",2:\"two\"}\n",
    "print(d)"
   ]
  },
  {
   "cell_type": "code",
   "execution_count": 7,
   "id": "5018e948-6700-4e42-a623-965927845053",
   "metadata": {},
   "outputs": [
    {
     "name": "stdout",
     "output_type": "stream",
     "text": [
      "2 2\n"
     ]
    }
   ],
   "source": [
    "print(l[1],l[-1])"
   ]
  },
  {
   "cell_type": "code",
   "execution_count": 6,
   "id": "9a92c143-4ddd-4244-b8c7-55bb5c483c49",
   "metadata": {},
   "outputs": [
    {
     "name": "stdout",
     "output_type": "stream",
     "text": [
      "[2, 1]\n"
     ]
    }
   ],
   "source": [
    "print(l[-1::-1])"
   ]
  },
  {
   "cell_type": "code",
   "execution_count": 8,
   "id": "8d8a753b-eb1d-46e9-a9c4-eb0974ea8c70",
   "metadata": {},
   "outputs": [
    {
     "name": "stdout",
     "output_type": "stream",
     "text": [
      "[2]\n"
     ]
    }
   ],
   "source": [
    "print(l[1::2])"
   ]
  },
  {
   "cell_type": "code",
   "execution_count": 9,
   "id": "3c6f52b1-e588-47ef-bcbb-96feb685bf5d",
   "metadata": {},
   "outputs": [
    {
     "name": "stdout",
     "output_type": "stream",
     "text": [
      "[1, 2, 3, 4]\n",
      "[1, 2, 1, 2]\n"
     ]
    }
   ],
   "source": [
    "l=[1,2]\n",
    "l2=[3,4]\n",
    "print(l+l2)\n",
    "print(l*2)"
   ]
  },
  {
   "cell_type": "code",
   "execution_count": 10,
   "id": "faee13a8-e6ab-447e-bab6-aa3b24e381ff",
   "metadata": {},
   "outputs": [
    {
     "name": "stdout",
     "output_type": "stream",
     "text": [
      "[1, 2, 100]\n"
     ]
    }
   ],
   "source": [
    "l.append(100)\n",
    "print(l)"
   ]
  },
  {
   "cell_type": "code",
   "execution_count": 15,
   "id": "db759c4e-a460-45b1-9307-84073ee5f06a",
   "metadata": {},
   "outputs": [
    {
     "name": "stdout",
     "output_type": "stream",
     "text": [
      "[123, 45, 65]\n"
     ]
    }
   ],
   "source": [
    "l=[123]\n",
    "l2=[45,65]\n",
    "l.extend(l2)\n",
    "print(l)\n"
   ]
  },
  {
   "cell_type": "code",
   "execution_count": null,
   "id": "0a23e943-6ec1-467f-877e-83f602818316",
   "metadata": {},
   "outputs": [],
   "source": []
  },
  {
   "cell_type": "code",
   "execution_count": null,
   "id": "b680391d-b420-47e3-96ea-ab2ff93d9414",
   "metadata": {},
   "outputs": [],
   "source": []
  }
 ],
 "metadata": {
  "kernelspec": {
   "display_name": "Python 3 (ipykernel)",
   "language": "python",
   "name": "python3"
  },
  "language_info": {
   "codemirror_mode": {
    "name": "ipython",
    "version": 3
   },
   "file_extension": ".py",
   "mimetype": "text/x-python",
   "name": "python",
   "nbconvert_exporter": "python",
   "pygments_lexer": "ipython3",
   "version": "3.9.12"
  }
 },
 "nbformat": 4,
 "nbformat_minor": 5
}
