{
 "cells": [
  {
   "cell_type": "code",
   "execution_count": 5,
   "id": "ac868c53-1fc6-497a-b316-99f8f4e909b1",
   "metadata": {},
   "outputs": [],
   "source": [
    "A=[11,22,33,44,55]"
   ]
  },
  {
   "cell_type": "code",
   "execution_count": 7,
   "id": "dc0a8262-3047-4ba9-b57d-84e7fac3a3f1",
   "metadata": {},
   "outputs": [],
   "source": [
    "B=[]"
   ]
  },
  {
   "cell_type": "code",
   "execution_count": 8,
   "id": "5cd0cf04-77bb-4c67-a9cf-2a8ca39c4093",
   "metadata": {},
   "outputs": [
    {
     "name": "stdout",
     "output_type": "stream",
     "text": [
      "[11, 22, 33, 44, 55] <class 'list'>\n"
     ]
    }
   ],
   "source": [
    " print(A,type(A))"
   ]
  },
  {
   "cell_type": "code",
   "execution_count": 9,
   "id": "e9fdd872-a4fb-481c-a55d-5bfed4ea046c",
   "metadata": {},
   "outputs": [
    {
     "data": {
      "text/plain": [
       "22"
      ]
     },
     "execution_count": 9,
     "metadata": {},
     "output_type": "execute_result"
    }
   ],
   "source": [
    "A[1]"
   ]
  },
  {
   "cell_type": "code",
   "execution_count": 10,
   "id": "6df81716-0fc7-41f4-aa8a-d68b7210b07d",
   "metadata": {},
   "outputs": [
    {
     "name": "stdout",
     "output_type": "stream",
     "text": [
      "length= 5\n"
     ]
    }
   ],
   "source": [
    "print(\"length=\",len(A))"
   ]
  },
  {
   "cell_type": "code",
   "execution_count": 15,
   "id": "b859b748-3b21-4e14-9411-9281c8b373a4",
   "metadata": {},
   "outputs": [
    {
     "data": {
      "text/plain": [
       "44"
      ]
     },
     "execution_count": 15,
     "metadata": {},
     "output_type": "execute_result"
    }
   ],
   "source": [
    "A[-2]"
   ]
  },
  {
   "cell_type": "code",
   "execution_count": 16,
   "id": "6c698fd5-4061-4b0f-a4d8-50e9d773f025",
   "metadata": {},
   "outputs": [
    {
     "data": {
      "text/plain": [
       "[33]"
      ]
     },
     "execution_count": 16,
     "metadata": {},
     "output_type": "execute_result"
    }
   ],
   "source": [
    "A[2:3:2]"
   ]
  },
  {
   "cell_type": "code",
   "execution_count": 14,
   "id": "94b39307-0082-42d4-9b38-5e86278bf56c",
   "metadata": {},
   "outputs": [
    {
     "data": {
      "text/plain": [
       "[22, 44]"
      ]
     },
     "execution_count": 14,
     "metadata": {},
     "output_type": "execute_result"
    }
   ],
   "source": [
    "A[-4:-1:2]"
   ]
  },
  {
   "cell_type": "code",
   "execution_count": 17,
   "id": "0cc96024-e633-4600-9907-89005ae3e93e",
   "metadata": {},
   "outputs": [
    {
     "data": {
      "text/plain": [
       "[44, 22]"
      ]
     },
     "execution_count": 17,
     "metadata": {},
     "output_type": "execute_result"
    }
   ],
   "source": [
    "A[-2::-2]"
   ]
  },
  {
   "cell_type": "code",
   "execution_count": 18,
   "id": "96bfee02-a46e-4fb2-8b9d-696454c2ef83",
   "metadata": {},
   "outputs": [
    {
     "name": "stdout",
     "output_type": "stream",
     "text": [
      "11\n",
      "22\n",
      "33\n",
      "44\n",
      "55\n",
      "11\n",
      "22\n",
      "33\n",
      "44\n",
      "55\n"
     ]
    }
   ],
   "source": [
    "for i in A:\n",
    "    print(i)\n",
    "for i in range(0,len(A)):\n",
    "    print(A[i])"
   ]
  },
  {
   "cell_type": "code",
   "execution_count": 23,
   "id": "5490b8b3-2f8b-4a1e-af50-06a0c16eef79",
   "metadata": {},
   "outputs": [],
   "source": [
    "A.append(66)"
   ]
  },
  {
   "cell_type": "code",
   "execution_count": 24,
   "id": "4a976f55-85dc-4d70-9e62-dcd968b494fc",
   "metadata": {},
   "outputs": [
    {
     "name": "stdout",
     "output_type": "stream",
     "text": [
      "[11, 22, 33, 44, 66]\n"
     ]
    }
   ],
   "source": [
    "print(A)"
   ]
  },
  {
   "cell_type": "code",
   "execution_count": 25,
   "id": "b7cf2048-ba9a-4ac6-8b9b-2d0e3c684347",
   "metadata": {},
   "outputs": [
    {
     "data": {
      "text/plain": [
       "33"
      ]
     },
     "execution_count": 25,
     "metadata": {},
     "output_type": "execute_result"
    }
   ],
   "source": [
    "A.pop(2)"
   ]
  },
  {
   "cell_type": "code",
   "execution_count": null,
   "id": "1af46333-0ff7-40a9-98b4-51f4a31e23ed",
   "metadata": {},
   "outputs": [],
   "source": []
  },
  {
   "cell_type": "code",
   "execution_count": 38,
   "id": "bb8b76b5-d095-4609-be53-aa04c065bf58",
   "metadata": {},
   "outputs": [],
   "source": [
    "A.append(11)"
   ]
  },
  {
   "cell_type": "code",
   "execution_count": 39,
   "id": "cbcbd7b8-d285-4db0-bf97-9d301ce81d01",
   "metadata": {},
   "outputs": [
    {
     "name": "stdout",
     "output_type": "stream",
     "text": [
      "[22, 44, 66, 11]\n"
     ]
    }
   ],
   "source": [
    "print(A)"
   ]
  },
  {
   "cell_type": "code",
   "execution_count": 44,
   "id": "92cbfa80-26b3-4e72-b763-4771b6fee9dc",
   "metadata": {},
   "outputs": [
    {
     "name": "stdout",
     "output_type": "stream",
     "text": [
      "[22, 66]\n"
     ]
    }
   ],
   "source": [
    "del A[1]\n",
    "print(A)"
   ]
  },
  {
   "cell_type": "code",
   "execution_count": null,
   "id": "ac627d32-0422-4168-9de5-516600e09f9a",
   "metadata": {},
   "outputs": [],
   "source": []
  }
 ],
 "metadata": {
  "kernelspec": {
   "display_name": "Python 3 (ipykernel)",
   "language": "python",
   "name": "python3"
  },
  "language_info": {
   "codemirror_mode": {
    "name": "ipython",
    "version": 3
   },
   "file_extension": ".py",
   "mimetype": "text/x-python",
   "name": "python",
   "nbconvert_exporter": "python",
   "pygments_lexer": "ipython3",
   "version": "3.9.12"
  }
 },
 "nbformat": 4,
 "nbformat_minor": 5
}
