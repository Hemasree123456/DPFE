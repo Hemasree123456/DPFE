{
 "cells": [
  {
   "cell_type": "code",
   "execution_count": 13,
   "id": "587ee296-1fdc-4e72-a9bb-4ac7c6d156b0",
   "metadata": {},
   "outputs": [
    {
     "name": "stdout",
     "output_type": "stream",
     "text": [
      "45 10\n",
      "bin of chlid= [10, 12]\n",
      "bin of teen= [13]\n",
      "bin of adult= [45, 32]\n"
     ]
    }
   ],
   "source": [
    "def binning(data):\n",
    "    maximum_value=max(data)\n",
    "    minimum_value=min(data)\n",
    "    print(maximum_value,minimum_value)\n",
    "    child=[]\n",
    "    teen=[]\n",
    "    adult=[]\n",
    "    for i in data:\n",
    "        if i<=12:\n",
    "            child.append(i)\n",
    "        elif i>12 and i<20:\n",
    "            teen.append(i)\n",
    "        elif i>=20 and i<60:\n",
    "            adult.append(i)\n",
    "    print(\"bin of chlid=\",child)\n",
    "    print(\"bin of teen=\",teen)\n",
    "    print(\"bin of adult=\",adult)\n",
    "age=[10,12,13,45,32]\n",
    "binning(age)"
   ]
  },
  {
   "cell_type": "code",
   "execution_count": null,
   "id": "a14f86bd-8373-40e5-b412-0efeac5140f8",
   "metadata": {},
   "outputs": [],
   "source": []
  },
  {
   "cell_type": "code",
   "execution_count": null,
   "id": "44ffe273-5c2f-43d5-b822-7626faf8226a",
   "metadata": {},
   "outputs": [],
   "source": []
  },
  {
   "cell_type": "code",
   "execution_count": null,
   "id": "f59e7528-fbf8-43fb-bb17-b9546e35954b",
   "metadata": {},
   "outputs": [],
   "source": []
  },
  {
   "cell_type": "code",
   "execution_count": null,
   "id": "635b248c-d187-48d8-a3a1-1d2348e143f9",
   "metadata": {},
   "outputs": [],
   "source": []
  }
 ],
 "metadata": {
  "kernelspec": {
   "display_name": "Python 3 (ipykernel)",
   "language": "python",
   "name": "python3"
  },
  "language_info": {
   "codemirror_mode": {
    "name": "ipython",
    "version": 3
   },
   "file_extension": ".py",
   "mimetype": "text/x-python",
   "name": "python",
   "nbconvert_exporter": "python",
   "pygments_lexer": "ipython3",
   "version": "3.9.12"
  }
 },
 "nbformat": 4,
 "nbformat_minor": 5
}
